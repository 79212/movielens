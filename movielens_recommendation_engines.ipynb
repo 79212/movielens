{
 "cells": [
  {
   "cell_type": "markdown",
   "metadata": {},
   "source": [
    "# Building a Movies Recommendation Engine\n",
    "“What movie should I watch this evening?” — have you ever had to answer this question at least once when you came home from work? As for me — yes, and more than once. From Netflix to Hulu, the need to build robust movie recommendation systems is extremely important given the huge demand for personalized content of modern consumers.\n",
    "\n",
    "In this notebook, I will attempt at implementing a few algorithms (content based, popularity based and collaborative filtering) to recommend movies and evaluate them to see which one performs the best.\n",
    "\n",
    "After reading this post you will know:\n",
    "\n",
    "* About the MovieLens dataset \n",
    "* How to load then explore the dataset in Python.\n",
    "* The 3 different types of recommendation engines.\n",
    "* How to develop a popularity-based recommendation model for the MovieLens dataset.\n",
    "* How to develop a content-based recommendation model for the MovieLens dataset.\n",
    "* How to develop a collaborative filtering model for the MovieLens dataset.\n",
    "* How to evaluate these models based on precision and recall.\n",
    "* Suggestions to improve the model accuracy.\n",
    "\n",
    "Let’s get started."
   ]
  },
  {
   "cell_type": "markdown",
   "metadata": {},
   "source": [
    "## The MovieLens Dataset\n",
    "One of the most common datasets that is available on the internet for building a Recommender System is the [MovieLens DataSet](https://grouplens.org/datasets/movielens/). This version of the dataset that I'm working with ([1M](https://grouplens.org/datasets/movielens/1m/)) contains 1,000,209 anonymous ratings of approximately 3,900 movies made by 6,040 MovieLens users who joined MovieLens in 2000.\n",
    "\n",
    "The data was collected by GroupLens researchers over various periods of time, depending on the size of the set. This 1M version was released on February 2003. Users were selected at random for inclusion. All users selected had rated at least 20 movies. Each user is represented by an id, and no other information is provided.\n",
    "\n",
    "The original data are contained in three files, [movies.dat](https://github.com/khanhnamle1994/movielens/blob/master/dat/movies.dat), [ratings.dat](https://github.com/khanhnamle1994/movielens/blob/master/dat/ratings.dat) and [users.dat](https://github.com/khanhnamle1994/movielens/blob/master/dat/users.dat). To make it easier to work with the data, I used a [script](https://github.com/khanhnamle1994/movielens/blob/master/dat_to_csv.py) to convert the .dat files into [.csv files](https://github.com/khanhnamle1994/movielens/tree/master/csv)."
   ]
  },
  {
   "cell_type": "markdown",
   "metadata": {},
   "source": [
    "## Loading and Exploring the Data\n",
    "Let's load this data into Python. I will load the dataset with Pandas onto Dataframes **ratings**, **users**, and **movies**. Before that, I'll also pass in column names for each CSV and read them using pandas (the column names are available in the [Readme](https://github.com/khanhnamle1994/movielens/blob/master/README.md) file)."
   ]
  },
  {
   "cell_type": "code",
   "execution_count": 6,
   "metadata": {},
   "outputs": [
    {
     "name": "stderr",
     "output_type": "stream",
     "text": [
      "/Library/Frameworks/Python.framework/Versions/3.6/lib/python3.6/site-packages/IPython/core/interactiveshell.py:2728: DtypeWarning: Columns (0,1,2,3) have mixed types. Specify dtype option on import or set low_memory=False.\n",
      "  interactivity=interactivity, compiler=compiler, result=result)\n"
     ]
    }
   ],
   "source": [
    "import pandas as pd\n",
    "import numpy as np\n",
    "import matplotlib.pyplot as plt\n",
    "\n",
    "# Reading ratings file\n",
    "r_cols = ['user_id', 'movie_id', 'rating', 'ts']\n",
    "ratings = pd.read_csv('csv/ratings.csv', names=r_cols, encoding='latin-1')\n",
    "\n",
    "# Reading users file\n",
    "u_cols = ['user_id', 'gender', 'age', 'occupation', 'zip']\n",
    "users = pd.read_csv('csv/users.csv', names=u_cols, encoding='latin-1')\n",
    "\n",
    "# Reading movies file\n",
    "m_cols = ['movie id', 'title' ,'genres']\n",
    "movies = pd.read_csv('csv/movies.csv', names=m_cols, encoding='latin-1')"
   ]
  },
  {
   "cell_type": "markdown",
   "metadata": {},
   "source": [
    "Now lets take a peak into the content of each file to understand them better."
   ]
  },
  {
   "cell_type": "code",
   "execution_count": 7,
   "metadata": {},
   "outputs": [
    {
     "name": "stdout",
     "output_type": "stream",
     "text": [
      "(1000210, 4)\n",
      "   user_id  movie_id  rating         ts\n",
      "0  user_id  movie_id  rating         ts\n",
      "1        1      1193       5  978300760\n",
      "2        1       661       3  978302109\n",
      "3        1       914       3  978301968\n",
      "4        1      3408       4  978300275\n"
     ]
    }
   ],
   "source": [
    "print(ratings.shape)\n",
    "print(ratings.head())"
   ]
  },
  {
   "cell_type": "markdown",
   "metadata": {},
   "source": [
    "This confirms that there are 1M ratings for different user and movie combinations. Also notice that each rating has a timestamp (ts) associated with it."
   ]
  },
  {
   "cell_type": "code",
   "execution_count": 8,
   "metadata": {},
   "outputs": [
    {
     "name": "stdout",
     "output_type": "stream",
     "text": [
      "(6041, 5)\n",
      "   user_id  gender  age  occupation    zip\n",
      "0  user_id  gender  age  occupation    zip\n",
      "1        1       F    1          10  48067\n",
      "2        2       M   56          16  70072\n",
      "3        3       M   25          15  55117\n",
      "4        4       M   45           7  02460\n"
     ]
    }
   ],
   "source": [
    "print(users.shape)\n",
    "print(users.head())"
   ]
  },
  {
   "cell_type": "markdown",
   "metadata": {},
   "source": [
    "This confirms that there are 6041 users and we have 5 features for each (unique user ID, gender, age, occupation and the zip code they are living in)."
   ]
  },
  {
   "cell_type": "code",
   "execution_count": 9,
   "metadata": {},
   "outputs": [
    {
     "name": "stdout",
     "output_type": "stream",
     "text": [
      "(3884, 3)\n",
      "   movie id                     title                        genres\n",
      "0  movie_id                     title                        genres\n",
      "1         1          Toy Story (1995)   Animation|Children's|Comedy\n",
      "2         2            Jumanji (1995)  Adventure|Children's|Fantasy\n",
      "3         3   Grumpier Old Men (1995)                Comedy|Romance\n",
      "4         4  Waiting to Exhale (1995)                  Comedy|Drama\n"
     ]
    }
   ],
   "source": [
    "print(movies.shape)\n",
    "print(movies.head())"
   ]
  },
  {
   "cell_type": "markdown",
   "metadata": {},
   "source": [
    "This dataset contains attributes of the 3884 movies. There are 3 columns including the movie ID, their titles, and their genres. Genres are pipe-separated and are selected from 18 genres (Action, Adventure, Animation, Children's, Comedy, Crime, Documentary, Drama, Fantasy, Film-Noir, Horror, Musical, Mystery, Romance, Sci-Fi, Thriller, War, Western)."
   ]
  },
  {
   "cell_type": "markdown",
   "metadata": {},
   "source": [
    "## Types of Recommendation Engines"
   ]
  },
  {
   "cell_type": "markdown",
   "metadata": {},
   "source": [
    "## Popularity-Based Recommendation Model"
   ]
  },
  {
   "cell_type": "markdown",
   "metadata": {},
   "source": [
    "## Content-Based Recommendation Model"
   ]
  },
  {
   "cell_type": "markdown",
   "metadata": {},
   "source": [
    "## Collaborative Filtering Recommendation Model"
   ]
  },
  {
   "cell_type": "markdown",
   "metadata": {},
   "source": [
    "## Evaluating Recommendation Models"
   ]
  },
  {
   "cell_type": "markdown",
   "metadata": {},
   "source": [
    "## Suggestions to Improve Model Accuracy"
   ]
  },
  {
   "cell_type": "markdown",
   "metadata": {},
   "source": [
    "## Summary"
   ]
  }
 ],
 "metadata": {
  "kernelspec": {
   "display_name": "Python 3",
   "language": "python",
   "name": "python3"
  },
  "language_info": {
   "codemirror_mode": {
    "name": "ipython",
    "version": 3
   },
   "file_extension": ".py",
   "mimetype": "text/x-python",
   "name": "python",
   "nbconvert_exporter": "python",
   "pygments_lexer": "ipython3",
   "version": "3.6.4"
  }
 },
 "nbformat": 4,
 "nbformat_minor": 2
}
