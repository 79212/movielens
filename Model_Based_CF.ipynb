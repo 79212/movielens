{
 "cells": [
  {
   "cell_type": "markdown",
   "metadata": {},
   "source": [
    "# Model-Based Collaborative Filtering for Movie Recommendation"
   ]
  },
  {
   "cell_type": "code",
   "execution_count": 2,
   "metadata": {},
   "outputs": [],
   "source": [
    "# import packages\n",
    "import pandas as pd\n",
    "import math\n",
    "import matplotlib.pyplot as plt\n",
    "from CFModel import CFModel\n",
    "from keras.callbacks import Callback, EarlyStopping, ModelCheckpoint\n",
    "%matplotlib inline"
   ]
  },
  {
   "cell_type": "code",
   "execution_count": 3,
   "metadata": {
    "collapsed": true
   },
   "outputs": [],
   "source": [
    "# load movies, users, and ratings file\n",
    "r_cols = ['user_id', 'movie_id', 'rating', 'ts']\n",
    "ratings = pd.read_csv('csv/ratings.csv', names=r_cols, encoding='latin-1', low_memory=False)\n",
    "\n",
    "u_cols = ['user_id', 'gender', 'age', 'occupation', 'zip']\n",
    "users = pd.read_csv('csv/users.csv', names=u_cols, encoding='latin-1', low_memory=False)\n",
    "\n",
    "m_cols = ['movie_id', 'title' ,'genres']\n",
    "movies = pd.read_csv('csv/movies.csv', names=m_cols, encoding='latin-1', low_memory=False)"
   ]
  },
  {
   "cell_type": "code",
   "execution_count": 5,
   "metadata": {},
   "outputs": [
    {
     "name": "stdout",
     "output_type": "stream",
     "text": [
      "1000208 ratings loaded.\n"
     ]
    }
   ],
   "source": [
    "# Ratings File\n",
    "ratings = ratings.iloc[1:]\n",
    "max_userid = ratings['user_id'].drop_duplicates().max() # set max_userid to the maximum user_id in the ratings\n",
    "max_movieid = ratings['movie_id'].drop_duplicates().max() # set max_movieid to the maximum movie_id in the ratings\n",
    "print len(ratings), 'ratings loaded.'"
   ]
  },
  {
   "cell_type": "code",
   "execution_count": 6,
   "metadata": {},
   "outputs": [
    {
     "name": "stdout",
     "output_type": "stream",
     "text": [
      "6040 descriptions of 999 users loaded.\n"
     ]
    }
   ],
   "source": [
    "# Users File\n",
    "users = users.iloc[1:]\n",
    "print len(users), 'descriptions of', max_userid, 'users loaded.'"
   ]
  },
  {
   "cell_type": "code",
   "execution_count": 7,
   "metadata": {},
   "outputs": [
    {
     "name": "stdout",
     "output_type": "stream",
     "text": [
      "3883 descriptions of 999 movies loaded.\n"
     ]
    }
   ],
   "source": [
    "# Movies File\n",
    "movies = movies.iloc[1:]\n",
    "print len(movies), 'descriptions of', max_movieid, 'movies loaded.'"
   ]
  },
  {
   "cell_type": "code",
   "execution_count": null,
   "metadata": {
    "collapsed": true
   },
   "outputs": [],
   "source": []
  }
 ],
 "metadata": {
  "kernelspec": {
   "display_name": "Python 2",
   "language": "python",
   "name": "python2"
  },
  "language_info": {
   "codemirror_mode": {
    "name": "ipython",
    "version": 2
   },
   "file_extension": ".py",
   "mimetype": "text/x-python",
   "name": "python",
   "nbconvert_exporter": "python",
   "pygments_lexer": "ipython2",
   "version": "2.7.14"
  }
 },
 "nbformat": 4,
 "nbformat_minor": 2
}
